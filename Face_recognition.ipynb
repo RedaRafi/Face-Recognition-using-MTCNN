{
  "nbformat": 4,
  "nbformat_minor": 0,
  "metadata": {
    "colab": {
      "name": "Face recognition.ipynb",
      "provenance": [],
      "collapsed_sections": [],
      "authorship_tag": "ABX9TyP66/qASRdq1xDTaQeM8UlP",
      "include_colab_link": true
    },
    "kernelspec": {
      "name": "python3",
      "display_name": "Python 3"
    }
  },
  "cells": [
    {
      "cell_type": "markdown",
      "metadata": {
        "id": "view-in-github",
        "colab_type": "text"
      },
      "source": [
        "<a href=\"https://colab.research.google.com/github/RedaRafi/Face-Recognition-using-MTCNN/blob/main/Face_recognition.ipynb\" target=\"_parent\"><img src=\"https://colab.research.google.com/assets/colab-badge.svg\" alt=\"Open In Colab\"/></a>"
      ]
    },
    {
      "cell_type": "code",
      "metadata": {
        "id": "5RsCtERx23E-",
        "outputId": "14c57213-fc4e-4ba2-b036-cb6100a4de7b",
        "colab": {
          "base_uri": "https://localhost:8080/",
          "height": 238
        }
      },
      "source": [
        "!pip install mtcnn\n"
      ],
      "execution_count": 2,
      "outputs": [
        {
          "output_type": "stream",
          "text": [
            "Collecting mtcnn\n",
            "\u001b[?25l  Downloading https://files.pythonhosted.org/packages/67/43/abee91792797c609c1bf30f1112117f7a87a713ebaa6ec5201d5555a73ef/mtcnn-0.1.0-py3-none-any.whl (2.3MB)\n",
            "\u001b[K     |████████████████████████████████| 2.3MB 2.8MB/s \n",
            "\u001b[?25hRequirement already satisfied: keras>=2.0.0 in /usr/local/lib/python3.6/dist-packages (from mtcnn) (2.4.3)\n",
            "Requirement already satisfied: opencv-python>=4.1.0 in /usr/local/lib/python3.6/dist-packages (from mtcnn) (4.1.2.30)\n",
            "Requirement already satisfied: numpy>=1.9.1 in /usr/local/lib/python3.6/dist-packages (from keras>=2.0.0->mtcnn) (1.18.5)\n",
            "Requirement already satisfied: h5py in /usr/local/lib/python3.6/dist-packages (from keras>=2.0.0->mtcnn) (2.10.0)\n",
            "Requirement already satisfied: pyyaml in /usr/local/lib/python3.6/dist-packages (from keras>=2.0.0->mtcnn) (3.13)\n",
            "Requirement already satisfied: scipy>=0.14 in /usr/local/lib/python3.6/dist-packages (from keras>=2.0.0->mtcnn) (1.4.1)\n",
            "Requirement already satisfied: six in /usr/local/lib/python3.6/dist-packages (from h5py->keras>=2.0.0->mtcnn) (1.15.0)\n",
            "Installing collected packages: mtcnn\n",
            "Successfully installed mtcnn-0.1.0\n"
          ],
          "name": "stdout"
        }
      ]
    },
    {
      "cell_type": "code",
      "metadata": {
        "id": "EBHWwQi12Z5z"
      },
      "source": [
        "import pandas as pd\n",
        "import numpy as np \n",
        "import matplotlib.pyplot as plt\n",
        "import seaborn as sns\n",
        "import random \n",
        "import h5py\n",
        "import cv2\n",
        "import glob\n",
        "from keras.models import Sequential \n",
        "from keras.layers import Conv2D, MaxPooling2D, Dense, Flatten, Dropout\n",
        "from keras.optimizers import Adam\n",
        "from keras.callbacks import TensorBoard\n",
        "import os\n",
        "from mtcnn.mtcnn import MTCNN"
      ],
      "execution_count": 3,
      "outputs": []
    },
    {
      "cell_type": "code",
      "metadata": {
        "id": "hs9iJcwK2ssh"
      },
      "source": [
        "detector = MTCNN()\n",
        "\n",
        "cap = cv2.VideoCapture(0)\n",
        "numimg = 207\n",
        "while cap.isOpened():\n",
        "    _, img = cap.read() \n",
        "    \n",
        "    result = detector.detect_faces(img)\n",
        "     for faces in result:\n",
        "        bounding_box = faces['box'] \n",
        "     #roi = test_image_gray[y:y+h, x:x+w]\n",
        "     #save face in folder \n",
        "        dim = (128,128)\n",
        "        if img != []:\n",
        "            roi = img[ bounding_box[1]: bounding_box[1]+ bounding_box[3] ,bounding_box[0]:bounding_box[0]+bounding_box[2]] \n",
        "            if roi != [] :\n",
        "                cv2.imwrite(\"C:/Users/\"+str(numimg) + \".jpg\",roi)\n",
        "                cv2.rectangle(img,\n",
        "                          (bounding_box[0], bounding_box[1]),\n",
        "                          (bounding_box[0]+bounding_box[2], bounding_box[1] + bounding_box[3]),\n",
        "                          (0,0,255),2)\n",
        "    \n",
        "    # Display the output\n",
        "    cv2.imshow('img', img)\n",
        "    numimg = numimg + 1\n",
        "    if cv2.waitKey(1) & 0xFF == ord('q'):\n",
        "        break\n",
        "\n",
        "cap.release()\n",
        "cv2.destroyAllWindows() "
      ],
      "execution_count": 4,
      "outputs": []
    },
    {
      "cell_type": "code",
      "metadata": {
        "id": "3xDCadlv2su6"
      },
      "source": [
        " def load_images_from_folder(pers ,folder):\n",
        "    images = []\n",
        "    personInPhoto = []\n",
        "    for filename in os.listdir(folder):\n",
        "        img = cv2.imread(os.path.join(folder,filename))\n",
        "        if img is not None:\n",
        "            \n",
        "            personInPhoto.append(pers)\n",
        "            img = cv2.resize(img,(128,128))\n",
        "            #img = np.reshape(img,[1,200,220,3])\n",
        "            images.append(img)\n",
        "    return (images , personInPhoto)"
      ],
      "execution_count": null,
      "outputs": []
    },
    {
      "cell_type": "code",
      "metadata": {
        "id": "nel7N_-U2sxd"
      },
      "source": [
        "PersonName0 ,pers0     = load_images_from_folder(0 ,\"C:/Users/\")\n",
        "PersonName1,pers1       = load_images_from_folder(1 ,\"C:/Users/\")\n",
        "X_test ,Y_test          =  load_images_from_folder(500 ,\"C:/Users/\")\n",
        "\n",
        "# PersonName1    = np.array(imageAyoub[:])\n",
        "PersonName0  = np.array(imageMouindo[:]) \n",
        "XT       = np.array(X_test[:])  \n",
        "\n",
        "#data to train wait ok \n",
        "# X__train = np.concatenate((PersonName0 ,PersonName1))\n",
        "X__train = PersonName0\n",
        "# Y__train  = np.concatenate((np.array(pers0[:]) , np.array(pers1[:])))\n",
        "Y__train = np.array(pers0[:])"
      ],
      "execution_count": null,
      "outputs": []
    },
    {
      "cell_type": "code",
      "metadata": {
        "id": "m4XIoEwN2szs"
      },
      "source": [
        "cv2.imshow(\"PersonName0\",X__train[20])\n",
        "cv2.waitKey(0)"
      ],
      "execution_count": null,
      "outputs": []
    },
    {
      "cell_type": "code",
      "metadata": {
        "id": "AZtGD4lP2s3C"
      },
      "source": [
        "X__train  =  X__train  / 255"
      ],
      "execution_count": null,
      "outputs": []
    },
    {
      "cell_type": "code",
      "metadata": {
        "id": "uR5JXZL831te"
      },
      "source": [
        "cnn_model = Sequential()\n",
        "\n",
        "cnn_model.add(Conv2D(64, 6, 6, input_shape = (128, 128, 3), activation = 'relu'))\n",
        "cnn_model.add(MaxPooling2D(pool_size = (2, 2)))\n",
        "\n",
        "cnn_model.add(Dropout(0.2))\n",
        "\n",
        "cnn_model.add(Conv2D(64, 5, 5, activation = 'relu'))\n",
        "cnn_model.add(MaxPooling2D(pool_size = (2, 2)))\n",
        "\n",
        "cnn_model.add(Flatten())\n",
        "\n",
        "cnn_model.add(Dense(units = 128, activation = 'relu'))\n",
        "\n",
        "cnn_model.add(Dense(units = 1, activation = 'sigmoid'))"
      ],
      "execution_count": null,
      "outputs": []
    },
    {
      "cell_type": "code",
      "metadata": {
        "id": "qEFD8X2f31v3"
      },
      "source": [
        "cnn_model.compile(loss = 'binary_crossentropy', optimizer = Adam(lr = 0.001), metrics = ['accuracy'])\n",
        "  "
      ],
      "execution_count": null,
      "outputs": []
    },
    {
      "cell_type": "code",
      "metadata": {
        "id": "qfR4pOOe31zL"
      },
      "source": [
        "epochs = 10\n",
        "\n",
        "#X_train,X_test,Y_train,Y_test=train_test_split(X_data_train_2,Y_data_output_2,test_size=0.3,random_state=random.seed())\n",
        "\n",
        "history = cnn_model.fit(X__train, Y__train, batch_size = 30, epochs = epochs, verbose = 1)"
      ],
      "execution_count": null,
      "outputs": []
    },
    {
      "cell_type": "code",
      "metadata": {
        "id": "XX4N5WMN39bG"
      },
      "source": [
        "cnn_model.save('Face_detec_Model.h5')"
      ],
      "execution_count": null,
      "outputs": []
    },
    {
      "cell_type": "code",
      "metadata": {
        "id": "5DnP7T3I39dy"
      },
      "source": [
        "from keras.models import load_model \n",
        "cnn_model = load_model('Face_detec_Model.h5')\n"
      ],
      "execution_count": null,
      "outputs": []
    },
    {
      "cell_type": "code",
      "metadata": {
        "id": "EFAxKmNS39f_"
      },
      "source": [
        "predicted_classes = cnn_model.predict_classes(XT)"
      ],
      "execution_count": null,
      "outputs": []
    },
    {
      "cell_type": "code",
      "metadata": {
        "id": "9WoxBUXX39ic"
      },
      "source": [
        "detector = MTCNN()\n",
        "\n",
        "cap = cv2.VideoCapture(0)\n",
        "numimg = 207 \n",
        "while cap.isOpened():\n",
        "    _, img = cap.read() \n",
        "    \n",
        "    result = detector.detect_faces(img)\n",
        "    for faces in result:\n",
        "        bounding_box = faces['box'] \n",
        "     #roi = test_image_gray[y:y+h, x:x+w]\n",
        "     #save face in folder \n",
        "        dim = (128,128)\n",
        "        roi = img[ bounding_box[1]: bounding_box[1]+ bounding_box[3] ,bounding_box[0]:bounding_box[0]+bounding_box[2]]  \n",
        "        img1 = cv2.resize(roi,(128,128))\n",
        "        img1 = np.reshape(img1,[1,128,128,3])\n",
        "        img1 = img1 / 255\n",
        "        \n",
        "        predict = cnn_model.predict_classes(img1) \n",
        "        predict2 = cnn_model.predict_proba(img1)\n",
        "        xx = np.round(predict2, 4)\n",
        "        print(predict2)\n",
        "        cv2.rectangle(img,\n",
        "                      (bounding_box[0], bounding_box[1]),\n",
        "                      (bounding_box[0]+bounding_box[2], bounding_box[1] + bounding_box[3]),\n",
        "                      (0,0,255),2)\n",
        "        if predict == 0  :\n",
        "            v = \"Pers0 Details\"\n",
        "        elif predict == 1 :\n",
        "            v = \"Pers1 Detailsx\"\n",
        "        else :\n",
        "            v = \"unKown\"\n",
        "        cv2.putText(img,v,(bounding_box[0], bounding_box[1]), 1, 1,(0,255,0),2,cv2.LINE_AA)\n",
        "     \n",
        "    \n",
        "    # Display the output\n",
        "    cv2.imshow('img', img)\n",
        "    numimg = numimg + 1\n",
        "    if cv2.waitKey(1) & 0xFF == ord('q'):\n",
        "        break\n",
        "\n",
        "cap.release()\n",
        "cv2.destroyAllWindows() "
      ],
      "execution_count": null,
      "outputs": []
    },
    {
      "cell_type": "code",
      "metadata": {
        "id": "MAxJZ-bV39l3"
      },
      "source": [
        ""
      ],
      "execution_count": null,
      "outputs": []
    }
  ]
}